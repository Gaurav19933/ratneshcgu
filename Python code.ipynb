{
 "cells": [
  {
   "cell_type": "markdown",
   "metadata": {},
   "source": [
    "# Ex #"
   ]
  },
  {
   "cell_type": "code",
   "execution_count": 46,
   "metadata": {},
   "outputs": [
    {
     "name": "stdout",
     "output_type": "stream",
     "text": [
      "8\n",
      "8\n",
      "[1, 2, 3, 4, 5, 6, 7, 8]\n",
      "[2, 4, 6, 8, 10, 12, 14, 16]\n"
     ]
    }
   ],
   "source": [
    "import matplotlib.pyplot as plt\n",
    "x= list(range (1,9))\n",
    "y=list(range (2,18,2))\n",
    "print(len(x))\n",
    "print(len(y))\n",
    "print(x)\n",
    "print(y)"
   ]
  },
  {
   "cell_type": "code",
   "execution_count": 12,
   "metadata": {},
   "outputs": [
    {
     "data": {
      "text/plain": [
       "[<matplotlib.lines.Line2D at 0x2608bec6cf8>]"
      ]
     },
     "execution_count": 12,
     "metadata": {},
     "output_type": "execute_result"
    },
    {
     "data": {
      "image/png": "[encoded data removed]",
      "text/plain": [
       "<Figure size 432x288 with 1 Axes>"
      ]
     },
     "metadata": {
      "needs_background": "light"
     },
     "output_type": "display_data"
    }
   ],
   "source": [
    "plt.plot(x,y)"
   ]
  },
  {
   "cell_type": "markdown",
   "metadata": {},
   "source": [
    "# Regression (Independent & Dependent variables)"
   ]
  },
  {
   "cell_type": "code",
   "execution_count": 7,
   "metadata": {},
   "outputs": [
    {
     "name": "stdout",
     "output_type": "stream",
     "text": [
      "[1, 2, 3, 4, 5]\n",
      "[2, 4, 5, 4, 5]\n"
     ]
    }
   ],
   "source": [
    "import matplotlib.pyplot as plt\n",
    "in_x=list(range(1,6))\n",
    "#de_y=list(range(20,30))\n",
    "de_y=[2,4,5,4,5]\n",
    "print(in_x)\n",
    "print(de_y)"
   ]
  },
  {
   "cell_type": "code",
   "execution_count": 8,
   "metadata": {},
   "outputs": [
    {
     "data": {
      "text/plain": [
       "<matplotlib.collections.PathCollection at 0x20f97be4320>"
      ]
     },
     "execution_count": 8,
     "metadata": {},
     "output_type": "execute_result"
    },
    {
     "data": {
      "image/png": "[encoded data removed]",
      "text/plain": [
       "<Figure size 432x288 with 1 Axes>"
      ]
     },
     "metadata": {
      "needs_background": "light"
     },
     "output_type": "display_data"
    }
   ],
   "source": [
    "plt.scatter(in_x,de_y,c=\"green\",s=100)\n",
    "#plt.plot(in_x,de_y,c=\"red\")\n",
    "#plt.axis ([0,8,0,8])"
   ]
  },
  {
   "cell_type": "code",
   "execution_count": null,
   "metadata": {},
   "outputs": [],
   "source": []
  },
  {
   "cell_type": "code",
   "execution_count": null,
   "metadata": {},
   "outputs": [],
   "source": []
  },
  {
   "cell_type": "code",
   "execution_count": null,
   "metadata": {},
   "outputs": [],
   "source": []
  },
  {
   "cell_type": "code",
   "execution_count": null,
   "metadata": {},
   "outputs": [],
   "source": []
  },
  {
   "cell_type": "code",
   "execution_count": null,
   "metadata": {},
   "outputs": [],
   "source": []
  },
  {
   "cell_type": "code",
   "execution_count": null,
   "metadata": {},
   "outputs": [],
   "source": []
  },
  {
   "cell_type": "code",
   "execution_count": null,
   "metadata": {},
   "outputs": [],
   "source": []
  },
  {
   "cell_type": "code",
   "execution_count": null,
   "metadata": {},
   "outputs": [],
   "source": []
  },
  {
   "cell_type": "markdown",
   "metadata": {},
   "source": [
    "# Indexing & Slicing # Ex [::-1]"
   ]
  },
  {
   "cell_type": "code",
   "execution_count": null,
   "metadata": {},
   "outputs": [],
   "source": []
  },
  {
   "cell_type": "code",
   "execution_count": null,
   "metadata": {},
   "outputs": [],
   "source": []
  },
  {
   "cell_type": "code",
   "execution_count": null,
   "metadata": {},
   "outputs": [],
   "source": []
  },
  {
   "cell_type": "code",
   "execution_count": null,
   "metadata": {},
   "outputs": [],
   "source": []
  },
  {
   "cell_type": "code",
   "execution_count": null,
   "metadata": {},
   "outputs": [],
   "source": []
  },
  {
   "cell_type": "markdown",
   "metadata": {},
   "source": [
    "# Live Speech Recognition and FFT # "
   ]
  },
  {
   "cell_type": "code",
   "execution_count": null,
   "metadata": {},
   "outputs": [],
   "source": []
  },
  {
   "cell_type": "code",
   "execution_count": null,
   "metadata": {},
   "outputs": [],
   "source": []
  },
  {
   "cell_type": "code",
   "execution_count": null,
   "metadata": {},
   "outputs": [],
   "source": []
  },
  {
   "cell_type": "code",
   "execution_count": null,
   "metadata": {},
   "outputs": [],
   "source": []
  },
  {
   "cell_type": "code",
   "execution_count": null,
   "metadata": {},
   "outputs": [],
   "source": []
  },
  {
   "cell_type": "code",
   "execution_count": null,
   "metadata": {},
   "outputs": [],
   "source": []
  },
  {
   "cell_type": "markdown",
   "metadata": {},
   "source": [
    "# scipy# "
   ]
  },
  {
   "cell_type": "markdown",
   "metadata": {},
   "source": [
    "# 1st part (Basics)"
   ]
  },
  {
   "cell_type": "code",
   "execution_count": 41,
   "metadata": {},
   "outputs": [
    {
     "name": "stdout",
     "output_type": "stream",
     "text": [
      "list to array [1 2 3 3 1 8]\n",
      "[[1. 1. 1. 1. 1. 1. 1.]\n",
      " [1. 1. 1. 1. 1. 1. 1.]\n",
      " [1. 1. 1. 1. 1. 1. 1.]\n",
      " [1. 1. 1. 1. 1. 1. 1.]\n",
      " [1. 1. 1. 1. 1. 1. 1.]] (5, 7)\n",
      "[[0. 0. 0. 0. 0. 0. 0.]\n",
      " [0. 0. 0. 0. 0. 0. 0.]\n",
      " [0. 0. 0. 0. 0. 0. 0.]\n",
      " [0. 0. 0. 0. 0. 0. 0.]\n",
      " [0. 0. 0. 0. 0. 0. 0.]]\n",
      "[ 2  4  6  8 10 12 14 16 18 20 22 24 26 28 30 32 34 36 38 40 42 44 46 48\n",
      " 50 52 54 56 58 60 62 64 66 68 70 72 74 76 78 80 82 84 86 88 90 92 94 96\n",
      " 98]\n",
      "[  2.           7.15789474  12.31578947  17.47368421  22.63157895\n",
      "  27.78947368  32.94736842  38.10526316  43.26315789  48.42105263\n",
      "  53.57894737  58.73684211  63.89473684  69.05263158  74.21052632\n",
      "  79.36842105  84.52631579  89.68421053  94.84210526 100.        ] 20\n",
      "[[1. 1. 1. 1.]\n",
      " [1. 1. 1. 1.]\n",
      " [1. 1. 1. 1.]\n",
      " [1. 1. 1. 1.]] (4, 4)\n",
      "transpose of non-matrix \n",
      " [[1. 1. 1. 1. 1.]\n",
      " [1. 1. 1. 1. 1.]\n",
      " [1. 1. 1. 1. 1.]\n",
      " [1. 1. 1. 1. 1.]\n",
      " [1. 1. 1. 1. 1.]\n",
      " [1. 1. 1. 1. 1.]\n",
      " [1. 1. 1. 1. 1.]] <function rank at 0x0000020F95919E18> (7, 5)\n",
      "transpoe of matrix \n",
      " [[1. 1. 1. 1.]\n",
      " [1. 1. 1. 1.]\n",
      " [1. 1. 1. 1.]\n",
      " [1. 1. 1. 1.]] <function rank at 0x0000020F95919E18> (4, 4)\n"
     ]
    }
   ],
   "source": [
    "\n",
    "# converting a list to an array\n",
    "import numpy as np\n",
    "list=[1,2,3,3,1,8]\n",
    "array=np.array(list)\n",
    "print(\"list to array\",array)\n",
    "\n",
    "# array of 1 in (row*col)size\n",
    "array_ones=np.ones((5,7)) \n",
    "transpose_1=array_ones.T\n",
    "print(array_ones,np.shape(array_ones))\n",
    "\n",
    "# array of 0's\n",
    "array_zeros=np.zeros((5,7))\n",
    "print(array_zeros)\n",
    "\n",
    "# making an array with defined and consecutive increment till a defined number\n",
    "array_1=np.arange(2,100,2,dtype=int)\n",
    "print(array_1)\n",
    "\n",
    "# making an array with number of data points as defined in equal distribution\n",
    "array_2=np.linspace(2,100,20)\n",
    "print(array_2,np.size(array_2))\n",
    "\n",
    "#making a matrix\n",
    "array_m=np.matrix(np.ones((4,4)))\n",
    "transpose_2=array_m.T\n",
    "print (array_m,np.shape(array_m))\n",
    "\n",
    "\n",
    "print(\"transpose of non-matrix\",\"\\n\",transpose_1,np.rank,np.shape(transpose_1)) #with intorduction to newline \\n\n",
    "print(\"transpoe of matrix\",\"\\n\",transpose_2,np.rank,np.shape(transpose_2))\n",
    "\n",
    "\n"
   ]
  },
  {
   "cell_type": "markdown",
   "metadata": {},
   "source": [
    "# 2nd Clusters "
   ]
  },
  {
   "cell_type": "code",
   "execution_count": null,
   "metadata": {},
   "outputs": [],
   "source": [
    "# K-Mean clustring technique\n",
    "# Generate the random the random data and with help of the module is find the clusters on the basis of similalar feature (nearest distance) "
   ]
  },
  {
   "cell_type": "markdown",
   "metadata": {},
   "source": [
    "# 3 constants,integrte,fftpack #"
   ]
  },
  {
   "cell_type": "code",
   "execution_count": null,
   "metadata": {},
   "outputs": [],
   "source": []
  },
  {
   "cell_type": "markdown",
   "metadata": {},
   "source": [
    "# 4 interpolate \n"
   ]
  },
  {
   "cell_type": "code",
   "execution_count": 93,
   "metadata": {},
   "outputs": [
    {
     "name": "stdout",
     "output_type": "stream",
     "text": [
      "[ 0.          0.12121212  0.24242424  0.36363636  0.48484848  0.60606061\n",
      "  0.72727273  0.84848485  0.96969697  1.09090909  1.21212121  1.33333333\n",
      "  1.45454545  1.57575758  1.6969697   1.81818182  1.93939394  2.06060606\n",
      "  2.18181818  2.3030303   2.42424242  2.54545455  2.66666667  2.78787879\n",
      "  2.90909091  3.03030303  3.15151515  3.27272727  3.39393939  3.51515152\n",
      "  3.63636364  3.75757576  3.87878788  4.          4.12121212  4.24242424\n",
      "  4.36363636  4.48484848  4.60606061  4.72727273  4.84848485  4.96969697\n",
      "  5.09090909  5.21212121  5.33333333  5.45454545  5.57575758  5.6969697\n",
      "  5.81818182  5.93939394  6.06060606  6.18181818  6.3030303   6.42424242\n",
      "  6.54545455  6.66666667  6.78787879  6.90909091  7.03030303  7.15151515\n",
      "  7.27272727  7.39393939  7.51515152  7.63636364  7.75757576  7.87878788\n",
      "  8.          8.12121212  8.24242424  8.36363636  8.48484848  8.60606061\n",
      "  8.72727273  8.84848485  8.96969697  9.09090909  9.21212121  9.33333333\n",
      "  9.45454545  9.57575758  9.6969697   9.81818182  9.93939394 10.06060606\n",
      " 10.18181818 10.3030303  10.42424242 10.54545455 10.66666667 10.78787879\n",
      " 10.90909091 11.03030303 11.15151515 11.27272727 11.39393939 11.51515152\n",
      " 11.63636364 11.75757576 11.87878788 12.        ]\n"
     ]
    }
   ],
   "source": [
    "import numpy as np\n",
    "import matplotlib.pyplot as plt\n",
    "from scipy import interpolate\n",
    "x_l=np.linspace(0,12,100)\n",
    "#x_a=np.arange(0,190,10)\n",
    "#print(x_l,\"\\n\")\n",
    "print(x_l)"
   ]
  },
  {
   "cell_type": "code",
   "execution_count": 94,
   "metadata": {},
   "outputs": [
    {
     "name": "stdout",
     "output_type": "stream",
     "text": [
      "[ 1.          0.9926628   0.97075887  0.93460964  0.88474558  0.8218984\n",
      "  0.74699036  0.66112069  0.56554947  0.46167915  0.35103397  0.23523757\n",
      "  0.11598921 -0.00496123 -0.12583886 -0.24486989 -0.36030759 -0.470458\n",
      " -0.57370472 -0.66853267 -0.75355031 -0.82751004 -0.88932657 -0.93809276\n",
      " -0.97309301 -0.9938137  -0.99995077 -0.99141417 -0.96832916 -0.9310345\n",
      " -0.88007748 -0.81620584 -0.74035688 -0.65364362 -0.55733854 -0.45285485\n",
      " -0.34172578 -0.2255821  -0.10612813  0.0148832   0.13567613  0.25447809\n",
      "  0.36954574  0.47919053  0.58180349  0.67587883  0.76003606  0.83304021\n",
      "  0.89382     0.94148352  0.97533134  0.99486675  0.99980309  0.99006793\n",
      "  0.96580411  0.9273677   0.87532273  0.81043292  0.7336505   0.6461022\n",
      "  0.54907273  0.44398596  0.33238395  0.21590442  0.09625661 -0.0248037\n",
      " -0.14550003 -0.26406124 -0.37874751 -0.48787588 -0.58984498 -0.68315845\n",
      " -0.76644698 -0.83848836 -0.89822543 -0.94478159 -0.97747364 -0.99582185\n",
      " -0.99955698 -0.98862421 -0.96318398 -0.9236096  -0.8704818  -0.80458021\n",
      " -0.72687189 -0.63849716 -0.54075287 -0.43507335 -0.3230094  -0.20620548\n",
      " -0.08637561  0.03472176  0.15530962  0.27361839  0.38791199  0.4965132\n",
      "  0.59782839  0.6903708   0.77278244  0.84385396]\n"
     ]
    },
    {
     "data": {
      "text/plain": [
       "<matplotlib.collections.PathCollection at 0x20f99907cc0>"
      ]
     },
     "execution_count": 94,
     "metadata": {},
     "output_type": "execute_result"
    },
    {
     "data": {
      "image/png": "[encoded data removed]",
      "text/plain": [
       "<Figure size 432x288 with 1 Axes>"
      ]
     },
     "metadata": {
      "needs_background": "light"
     },
     "output_type": "display_data"
    }
   ],
   "source": [
    "y=np.cos(x_l)\n",
    "#y1=np.cos(x_l+0.5)\n",
    "print(y)\n",
    "plt.scatter(x_l,y)\n",
    "#plt.scatter(x_l,y1)\n",
    "#plt.plot(x_l,y)"
   ]
  },
  {
   "cell_type": "code",
   "execution_count": 95,
   "metadata": {},
   "outputs": [
    {
     "ename": "NameError",
     "evalue": "name 'interp1d' is not defined",
     "output_type": "error",
     "traceback": [
      "\u001b[1;31m---------------------------------------------------------------------------\u001b[0m",
      "\u001b[1;31mNameError\u001b[0m                                 Traceback (most recent call last)",
      "\u001b[1;32m<ipython-input-95-9d3ab2d0749b>\u001b[0m in \u001b[0;36m<module>\u001b[1;34m\u001b[0m\n\u001b[1;32m----> 1\u001b[1;33m \u001b[0mf1\u001b[0m \u001b[1;33m=\u001b[0m \u001b[0minterp1d\u001b[0m\u001b[1;33m(\u001b[0m\u001b[0mx_l\u001b[0m\u001b[1;33m,\u001b[0m \u001b[0my\u001b[0m\u001b[1;33m,\u001b[0m\u001b[0mkind\u001b[0m \u001b[1;33m=\u001b[0m \u001b[1;34m'linear'\u001b[0m\u001b[1;33m)\u001b[0m\u001b[1;33m\u001b[0m\u001b[1;33m\u001b[0m\u001b[0m\n\u001b[0m\u001b[0;32m      2\u001b[0m \u001b[1;33m\u001b[0m\u001b[0m\n\u001b[0;32m      3\u001b[0m \u001b[0mf2\u001b[0m \u001b[1;33m=\u001b[0m \u001b[0minterp1d\u001b[0m\u001b[1;33m(\u001b[0m\u001b[0mx_l\u001b[0m\u001b[1;33m,\u001b[0m \u001b[0my\u001b[0m\u001b[1;33m,\u001b[0m \u001b[0mkind\u001b[0m \u001b[1;33m=\u001b[0m \u001b[1;34m'cubic'\u001b[0m\u001b[1;33m)\u001b[0m\u001b[1;33m\u001b[0m\u001b[1;33m\u001b[0m\u001b[0m\n\u001b[0;32m      4\u001b[0m \u001b[1;33m\u001b[0m\u001b[0m\n\u001b[0;32m      5\u001b[0m \u001b[0mplt\u001b[0m\u001b[1;33m.\u001b[0m\u001b[0mplot\u001b[0m\u001b[1;33m(\u001b[0m\u001b[0mx__l\u001b[0m\u001b[1;33m,\u001b[0m\u001b[0my\u001b[0m\u001b[1;33m,\u001b[0m\u001b[1;34m'o'\u001b[0m\u001b[1;33m,\u001b[0m\u001b[0mx_l\u001b[0m\u001b[1;33m,\u001b[0m\u001b[0mf1\u001b[0m\u001b[1;33m,\u001b[0m\u001b[1;34m'-'\u001b[0m\u001b[1;33m,\u001b[0m\u001b[0mx_l\u001b[0m\u001b[1;33m,\u001b[0m\u001b[0mf2\u001b[0m\u001b[1;33m,\u001b[0m\u001b[1;34m'--'\u001b[0m\u001b[1;33m)\u001b[0m\u001b[1;33m\u001b[0m\u001b[1;33m\u001b[0m\u001b[0m\n",
      "\u001b[1;31mNameError\u001b[0m: name 'interp1d' is not defined"
     ]
    }
   ],
   "source": [
    "f1 = interp1d(x_l, y,kind = 'linear')\n",
    "\n",
    "f2 = interp1d(x_l, y, kind = 'cubic')\n",
    "\n",
    "plt.plot(x__l,y,'o',x_l,f1,'-',x_l,f2,'--')\n",
    "plt.show()"
   ]
  },
  {
   "cell_type": "code",
   "execution_count": null,
   "metadata": {},
   "outputs": [],
   "source": []
  },
  {
   "cell_type": "code",
   "execution_count": null,
   "metadata": {},
   "outputs": [],
   "source": []
  },
  {
   "cell_type": "code",
   "execution_count": null,
   "metadata": {},
   "outputs": [],
   "source": []
  },
  {
   "cell_type": "code",
   "execution_count": 57,
   "metadata": {},
   "outputs": [
    {
     "name": "stdout",
     "output_type": "stream",
     "text": [
      "28.64788975654117\n"
     ]
    }
   ],
   "source": [
    "check_degree=np.cos(np.pi/3)*(180/np.pi)\n",
    "print(check_degree)\n"
   ]
  },
  {
   "cell_type": "markdown",
   "metadata": {},
   "source": [
    "# web application development #"
   ]
  },
  {
   "cell_type": "code",
   "execution_count": 1,
   "metadata": {},
   "outputs": [
    {
     "ename": "SyntaxError",
     "evalue": "invalid syntax (<ipython-input-1-db4a9151f29f>, line 1)",
     "output_type": "error",
     "traceback": [
      "\u001b[1;36m  File \u001b[1;32m\"<ipython-input-1-db4a9151f29f>\"\u001b[1;36m, line \u001b[1;32m1\u001b[0m\n\u001b[1;33m    virtualenv version\u001b[0m\n\u001b[1;37m                     ^\u001b[0m\n\u001b[1;31mSyntaxError\u001b[0m\u001b[1;31m:\u001b[0m invalid syntax\n"
     ]
    }
   ],
   "source": [
    "virtualenv version"
   ]
  },
  {
   "cell_type": "code",
   "execution_count": 2,
   "metadata": {},
   "outputs": [
    {
     "ename": "SyntaxError",
     "evalue": "invalid syntax (<ipython-input-2-1a38b62f5847>, line 1)",
     "output_type": "error",
     "traceback": [
      "\u001b[1;36m  File \u001b[1;32m\"<ipython-input-2-1a38b62f5847>\"\u001b[1;36m, line \u001b[1;32m1\u001b[0m\n\u001b[1;33m    virtualenv MY_web application\u001b[0m\n\u001b[1;37m                    ^\u001b[0m\n\u001b[1;31mSyntaxError\u001b[0m\u001b[1;31m:\u001b[0m invalid syntax\n"
     ]
    }
   ],
   "source": [
    "virtualenv MY_web application"
   ]
  },
  {
   "cell_type": "code",
   "execution_count": null,
   "metadata": {},
   "outputs": [],
   "source": []
  },
  {
   "cell_type": "code",
   "execution_count": null,
   "metadata": {},
   "outputs": [],
   "source": []
  },
  {
   "cell_type": "code",
   "execution_count": null,
   "metadata": {},
   "outputs": [],
   "source": []
  },
  {
   "cell_type": "code",
   "execution_count": null,
   "metadata": {},
   "outputs": [],
   "source": []
  },
  {
   "cell_type": "code",
   "execution_count": null,
   "metadata": {},
   "outputs": [],
   "source": []
  },
  {
   "cell_type": "code",
   "execution_count": null,
   "metadata": {},
   "outputs": [],
   "source": []
  },
  {
   "cell_type": "code",
   "execution_count": null,
   "metadata": {},
   "outputs": [],
   "source": []
  },
  {
   "cell_type": "code",
   "execution_count": null,
   "metadata": {},
   "outputs": [],
   "source": []
  },
  {
   "cell_type": "code",
   "execution_count": null,
   "metadata": {},
   "outputs": [],
   "source": []
  },
  {
   "cell_type": "code",
   "execution_count": null,
   "metadata": {},
   "outputs": [],
   "source": []
  },
  {
   "cell_type": "code",
   "execution_count": null,
   "metadata": {},
   "outputs": [],
   "source": []
  },
  {
   "cell_type": "code",
   "execution_count": null,
   "metadata": {},
   "outputs": [],
   "source": []
  },
  {
   "cell_type": "code",
   "execution_count": null,
   "metadata": {},
   "outputs": [],
   "source": []
  },
  {
   "cell_type": "code",
   "execution_count": null,
   "metadata": {},
   "outputs": [],
   "source": []
  },
  {
   "cell_type": "code",
   "execution_count": null,
   "metadata": {},
   "outputs": [],
   "source": []
  },
  {
   "cell_type": "code",
   "execution_count": null,
   "metadata": {},
   "outputs": [],
   "source": []
  }
 ],
 "metadata": {
  "kernelspec": {
   "display_name": "Python 3",
   "language": "python",
   "name": "python3"
  },
  "language_info": {
   "codemirror_mode": {
    "name": "ipython",
    "version": 3
   },
   "file_extension": ".py",
   "mimetype": "text/x-python",
   "name": "python",
   "nbconvert_exporter": "python",
   "pygments_lexer": "ipython3",
   "version": "3.7.1"
  }
 },
 "nbformat": 4,
 "nbformat_minor": 2
}
