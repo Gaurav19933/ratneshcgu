{
 "cells": [
  {
   "cell_type": "markdown",
   "metadata": {},
   "source": [
    "# This is the largest title\n",
    "\n",
    "## This is the second largest title\n",
    "\n",
    "### This is the smallest title\n",
    "\n",
    "The new document shows how to use the formats in the __Markdown__ type cells. Equations can be included in the document as\n",
    "\n",
    "\\begin{equation}\n",
    "A_n(x)=\\int_0^\\infty\\int_1^\\infty \\frac{e^{xt}}{t^n}dtdx \\tag{1}\\label{eqn:airy}\n",
    "\\end{equation}\n",
    "\n",
    "where $A_n(x)$ is called the Airy function. To refer to the previously mentioned equations, tables, or firgures, one can use something like `\\ref{eqn:airy}` to produce Eqn. (\\ref{eqn:airy})."
   ]
  },
  {
   "cell_type": "code",
   "execution_count": null,
   "metadata": {},
   "outputs": [],
   "source": []
  },
  {
   "cell_type": "code",
   "execution_count": null,
   "metadata": {},
   "outputs": [],
   "source": []
  },
  {
   "cell_type": "code",
   "execution_count": null,
   "metadata": {},
   "outputs": [],
   "source": []
  },
  {
   "cell_type": "code",
   "execution_count": null,
   "metadata": {},
   "outputs": [],
   "source": []
  },
  {
   "cell_type": "code",
   "execution_count": null,
   "metadata": {},
   "outputs": [],
   "source": []
  },
  {
   "cell_type": "code",
   "execution_count": null,
   "metadata": {},
   "outputs": [],
   "source": []
  }
 ],
 "metadata": {
  "kernelspec": {
   "display_name": "Python 3",
   "language": "python",
   "name": "python3"
  },
  "language_info": {
   "codemirror_mode": {
    "name": "ipython",
    "version": 3
   },
   "file_extension": ".py",
   "mimetype": "text/x-python",
   "name": "python",
   "nbconvert_exporter": "python",
   "pygments_lexer": "ipython3",
   "version": "3.7.3"
  }
 },
 "nbformat": 4,
 "nbformat_minor": 2
}
