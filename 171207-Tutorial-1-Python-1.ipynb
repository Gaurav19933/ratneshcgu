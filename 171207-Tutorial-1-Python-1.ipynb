{
 "cells": [
  {
   "cell_type": "code",
   "execution_count": 9,
   "metadata": {},
   "outputs": [
    {
     "name": "stdout",
     "output_type": "stream",
     "text": [
      "3\n"
     ]
    }
   ],
   "source": [
    "x=1\n",
    "y=2\n",
    "print(x+y)"
   ]
  },
  {
   "cell_type": "code",
   "execution_count": null,
   "metadata": {
    "collapsed": true
   },
   "outputs": [],
   "source": [
    "print(\"my name\") "
   ]
  },
  {
   "cell_type": "code",
   "execution_count": 2,
   "metadata": {},
   "outputs": [
    {
     "name": "stdout",
     "output_type": "stream",
     "text": [
      "dave bowman\n",
      "098765\n"
     ]
    }
   ],
   "source": [
    "class User:\n",
    "    def __init__(self,fullname,birthday):\n",
    "        self.name=fullname\n",
    "        self.birthday=birthday\n",
    "user1=User(\"dave bowman\",\"098765\")\n",
    "print(user1.name)\n",
    "print(user1.birthday)"
   ]
  },
  {
   "cell_type": "code",
   "execution_count": null,
   "metadata": {
    "collapsed": true
   },
   "outputs": [],
   "source": []
  },
  {
   "cell_type": "code",
   "execution_count": 4,
   "metadata": {},
   "outputs": [
    {
     "name": "stdout",
     "output_type": "stream",
     "text": [
      "Hello World!\n",
      "This is a Python program.\n"
     ]
    }
   ],
   "source": [
    "print(\"Hello World!\")\n",
    "print(\"This is a Python program.\")"
   ]
  },
  {
   "cell_type": "code",
   "execution_count": 1,
   "metadata": {},
   "outputs": [
    {
     "data": {
      "text/plain": [
       "15"
      ]
     },
     "execution_count": 1,
     "metadata": {},
     "output_type": "execute_result"
    }
   ],
   "source": [
    "3*5"
   ]
  },
  {
   "cell_type": "code",
   "execution_count": 2,
   "metadata": {},
   "outputs": [
    {
     "name": "stdout",
     "output_type": "stream",
     "text": [
      "15\n"
     ]
    }
   ],
   "source": [
    "print(3*5)"
   ]
  },
  {
   "cell_type": "code",
   "execution_count": 3,
   "metadata": {},
   "outputs": [
    {
     "data": {
      "text/plain": [
       "3.0"
      ]
     },
     "execution_count": 3,
     "metadata": {},
     "output_type": "execute_result"
    }
   ],
   "source": [
    "3/1"
   ]
  },
  {
   "cell_type": "code",
   "execution_count": 5,
   "metadata": {
    "collapsed": true
   },
   "outputs": [],
   "source": [
    "x = 1\n",
    "y = 1.234\n",
    "z = True"
   ]
  },
  {
   "cell_type": "code",
   "execution_count": null,
   "metadata": {
    "collapsed": true
   },
   "outputs": [],
   "source": []
  },
  {
   "cell_type": "code",
   "execution_count": null,
   "metadata": {
    "collapsed": true
   },
   "outputs": [],
   "source": []
  },
  {
   "cell_type": "code",
   "execution_count": 1,
   "metadata": {},
   "outputs": [
    {
     "name": "stdout",
     "output_type": "stream",
     "text": [
      "1\n",
      "1.234\n",
      "True\n"
     ]
    }
   ],
   "source": [
    "x = 1\n",
    "y = 1.234\n",
    "z = True\n",
    " \n",
    "print(x)\n",
    "print(y)\n",
    "print(z)"
   ]
  },
  {
   "cell_type": "code",
   "execution_count": 3,
   "metadata": {},
   "outputs": [
    {
     "data": {
      "text/plain": [
       "int"
      ]
     },
     "execution_count": 3,
     "metadata": {},
     "output_type": "execute_result"
    }
   ],
   "source": [
    "type(x)"
   ]
  },
  {
   "cell_type": "code",
   "execution_count": null,
   "metadata": {
    "collapsed": true
   },
   "outputs": [],
   "source": [
    "type(y)"
   ]
  },
  {
   "cell_type": "code",
   "execution_count": null,
   "metadata": {
    "collapsed": true
   },
   "outputs": [],
   "source": [
    "type(z)"
   ]
  },
  {
   "cell_type": "code",
   "execution_count": 4,
   "metadata": {},
   "outputs": [
    {
     "name": "stdout",
     "output_type": "stream",
     "text": [
      "11\n"
     ]
    }
   ],
   "source": [
    "x = 3\n",
    "y = 8\n",
    " \n",
    "sum = x + y\n",
    " \n",
    "print(sum)"
   ]
  },
  {
   "cell_type": "code",
   "execution_count": null,
   "metadata": {
    "collapsed": true
   },
   "outputs": [],
   "source": []
  },
  {
   "cell_type": "code",
   "execution_count": null,
   "metadata": {
    "collapsed": true
   },
   "outputs": [],
   "source": [
    "a= float(input(\"Enter a:\"))\n",
    "b= float(input(\"Enter b:\"))\n",
    "c= float(input(\"Enter c:\"))\n",
    "sum =(b+c)\n",
    "\n",
    "print(sum)"
   ]
  },
  {
   "cell_type": "code",
   "execution_count": null,
   "metadata": {
    "collapsed": true
   },
   "outputs": [],
   "source": []
  },
  {
   "cell_type": "code",
   "execution_count": 2,
   "metadata": {},
   "outputs": [
    {
     "name": "stdout",
     "output_type": "stream",
     "text": [
      "cat found in The cat is brown\n"
     ]
    }
   ],
   "source": [
    "sentence = (\"The cat is brown\")\n",
    "q = \"cat\"\n",
    "\n",
    "if q in sentence:\n",
    "(print q + \" found in \" + sentence)\n"
   ]
  },
  {
   "cell_type": "code",
   "execution_count": null,
   "metadata": {
    "collapsed": true
   },
   "outputs": [],
   "source": []
  },
  {
   "cell_type": "code",
   "execution_count": null,
   "metadata": {
    "collapsed": true
   },
   "outputs": [],
   "source": []
  },
  {
   "cell_type": "code",
   "execution_count": 7,
   "metadata": {},
   "outputs": [
    {
     "name": "stdout",
     "output_type": "stream",
     "text": [
      "hello world\n"
     ]
    }
   ],
   "source": [
    "s = \"hello world\"\n",
    "print(s)"
   ]
  },
  {
   "cell_type": "code",
   "execution_count": 4,
   "metadata": {},
   "outputs": [
    {
     "name": "stdout",
     "output_type": "stream",
     "text": [
      "Enter name: g\n",
      "g\n"
     ]
    }
   ],
   "source": [
    "name = input(\"Enter name: \")\n",
    "print(name)"
   ]
  },
  {
   "cell_type": "markdown",
   "metadata": {},
   "source": [
    "python –version"
   ]
  },
  {
   "cell_type": "code",
   "execution_count": 3,
   "metadata": {},
   "outputs": [
    {
     "name": "stdout",
     "output_type": "stream",
     "text": [
      "string not eqal\n"
     ]
    }
   ],
   "source": [
    "# String Comparison\n",
    "\n",
    "\n",
    "sentence = \"The cat is brown\"\n",
    "q = \"cat\"\n",
    " \n",
    "if q == sentence:\n",
    "    print('strings equal') \n",
    "else:\n",
    "    print('string not eqal')"
   ]
  },
  {
   "cell_type": "code",
   "execution_count": null,
   "metadata": {
    "collapsed": true
   },
   "outputs": [],
   "source": []
  },
  {
   "cell_type": "code",
   "execution_count": null,
   "metadata": {
    "collapsed": true
   },
   "outputs": [],
   "source": []
  },
  {
   "cell_type": "code",
   "execution_count": null,
   "metadata": {
    "collapsed": true
   },
   "outputs": [],
   "source": []
  },
  {
   "cell_type": "code",
   "execution_count": 4,
   "metadata": {},
   "outputs": [
    {
     "name": "stdout",
     "output_type": "stream",
     "text": [
      "strings equal\n"
     ]
    }
   ],
   "source": [
    "sentence = \"The cat is brown\"\n",
    "q = \"cat\"\n",
    " \n",
    "if q != sentence:\n",
    "    print('strings equal')"
   ]
  },
  {
   "cell_type": "markdown",
   "metadata": {},
   "source": [
    "![caption](images/python_string.png)"
   ]
  },
  {
   "cell_type": "code",
   "execution_count": 11,
   "metadata": {
    "collapsed": true
   },
   "outputs": [],
   "source": [
    "# String Slicing\n",
    "sentence = \"The cat is brown\""
   ]
  },
  {
   "cell_type": "code",
   "execution_count": 15,
   "metadata": {},
   "outputs": [
    {
     "name": "stdout",
     "output_type": "stream",
     "text": [
      "The cat is brow\n"
     ]
    }
   ],
   "source": [
    "print(sentence[:-1])"
   ]
  },
  {
   "cell_type": "code",
   "execution_count": 16,
   "metadata": {},
   "outputs": [
    {
     "name": "stdout",
     "output_type": "stream",
     "text": [
      " cat is brown\n"
     ]
    }
   ],
   "source": [
    "print(sentence[3:])"
   ]
  },
  {
   "cell_type": "code",
   "execution_count": 17,
   "metadata": {},
   "outputs": [
    {
     "name": "stdout",
     "output_type": "stream",
     "text": [
      "e\n"
     ]
    }
   ],
   "source": [
    "print(sentence[2:3])"
   ]
  },
  {
   "cell_type": "code",
   "execution_count": 18,
   "metadata": {},
   "outputs": [
    {
     "name": "stdout",
     "output_type": "stream",
     "text": [
      "n\n"
     ]
    }
   ],
   "source": [
    "print(sentence[-1])"
   ]
  },
  {
   "cell_type": "markdown",
   "metadata": {},
   "source": [
    "List"
   ]
  },
  {
   "cell_type": "code",
   "execution_count": 25,
   "metadata": {},
   "outputs": [
    {
     "name": "stdout",
     "output_type": "stream",
     "text": [
      "['3', 'true', 'Drake', 'Derp', 'Derek', 'Dominique']\n",
      "true\n",
      "Derp\n"
     ]
    }
   ],
   "source": [
    "l = [ \"3\",\"true\", \"Drake\", \"Derp\", \"Derek\", \"Dominique\" ]\n",
    " \n",
    "print(l)     # prints all elements\n",
    "print(l[1])  # print first element\n",
    "print(l[3])  # prints second element"
   ]
  },
  {
   "cell_type": "code",
   "execution_count": null,
   "metadata": {
    "collapsed": true
   },
   "outputs": [],
   "source": []
  },
  {
   "cell_type": "code",
   "execution_count": 27,
   "metadata": {},
   "outputs": [
    {
     "name": "stdout",
     "output_type": "stream",
     "text": [
      "['GAURAV', 'PANDEY']\n",
      "['GAURAV', 'shweta']\n"
     ]
    }
   ],
   "source": [
    "G =[\"GAURAV\",\"PANDEY\"]\n",
    "\n",
    "print(G)\n",
    "G.append(\"shweta\")\n",
    "G.remove(\"PANDEY\")\n",
    "print(G)"
   ]
  },
  {
   "cell_type": "code",
   "execution_count": null,
   "metadata": {
    "collapsed": true
   },
   "outputs": [],
   "source": []
  },
  {
   "cell_type": "code",
   "execution_count": null,
   "metadata": {
    "collapsed": true
   },
   "outputs": [],
   "source": []
  },
  {
   "cell_type": "code",
   "execution_count": null,
   "metadata": {
    "collapsed": true
   },
   "outputs": [],
   "source": []
  },
  {
   "cell_type": "code",
   "execution_count": null,
   "metadata": {
    "collapsed": true
   },
   "outputs": [],
   "source": [
    "W"
   ]
  },
  {
   "cell_type": "code",
   "execution_count": null,
   "metadata": {
    "collapsed": true
   },
   "outputs": [],
   "source": []
  },
  {
   "cell_type": "code",
   "execution_count": 8,
   "metadata": {},
   "outputs": [
    {
     "name": "stdout",
     "output_type": "stream",
     "text": [
      "['Drake', 'Derp', 'Derek', 'Dominique']\n",
      "['Drake', 'Derp', 'Derek', 'Dominique', 'Victoria']\n",
      "['Derek', 'Dominique', 'Victoria']\n"
     ]
    }
   ],
   "source": [
    "l = [ \"Drake\", \"Derp\", \"Derek\", \"Dominique\" ]\n",
    " \n",
    "print(l)                # prints all elements\n",
    "l.append(\"Victoria\")   # add element.\n",
    "print(l)                # print all elements\n",
    "l.remove(\"Derp\")       # remove element.\n",
    "l.remove(\"Drake\")      # remove element.\n",
    "print(l)               # print all elements."
   ]
  },
  {
   "cell_type": "code",
   "execution_count": 4,
   "metadata": {},
   "outputs": [
    {
     "data": {
      "text/plain": [
       "10"
      ]
     },
     "execution_count": 4,
     "metadata": {},
     "output_type": "execute_result"
    }
   ],
   "source": [
    "2+3+5"
   ]
  },
  {
   "cell_type": "markdown",
   "metadata": {},
   "source": [
    "排序"
   ]
  },
  {
   "cell_type": "code",
   "execution_count": 5,
   "metadata": {},
   "outputs": [
    {
     "name": "stdout",
     "output_type": "stream",
     "text": [
      "10\n"
     ]
    }
   ],
   "source": [
    "print(2+3+5)\n",
    "    "
   ]
  },
  {
   "cell_type": "code",
   "execution_count": 29,
   "metadata": {},
   "outputs": [
    {
     "name": "stdout",
     "output_type": "stream",
     "text": [
      "['True', 'Drake', 'Derp', 'Derek', 'Dominique']\n",
      "['Derek', 'Derp', 'Dominique', 'Drake', 'True']\n"
     ]
    }
   ],
   "source": [
    "l = [ \"True\",\"Drake\", \"Derp\", \"Derek\", \"Dominique\" ]\n",
    " \n",
    "print(l)     # prints all elements\n",
    "l.sort()    # sorts the list in alphabetical order\n",
    "print(l)     # prints all elements"
   ]
  },
  {
   "cell_type": "code",
   "execution_count": 12,
   "metadata": {},
   "outputs": [
    {
     "name": "stdout",
     "output_type": "stream",
     "text": [
      "<class 'tuple'>\n"
     ]
    }
   ],
   "source": [
    "print (tuple)"
   ]
  },
  {
   "cell_type": "code",
   "execution_count": null,
   "metadata": {
    "collapsed": true
   },
   "outputs": [],
   "source": []
  },
  {
   "cell_type": "code",
   "execution_count": 30,
   "metadata": {},
   "outputs": [
    {
     "name": "stdout",
     "output_type": "stream",
     "text": [
      "['Drake', 'Derp', 'Derek', 'Dominique']\n",
      "['Drake', 'Dominique', 'Derp', 'Derek']\n"
     ]
    }
   ],
   "source": [
    "l = [ \"Drake\", \"Derp\", \"Derek\", \"Dominique\" ]\n",
    " \n",
    "print(l)     # prints all elements\n",
    "l.sort()    # sorts the list in alphabetical order\n",
    "l.reverse() # reverse order.\n",
    "print(l)     # prints all elements"
   ]
  },
  {
   "cell_type": "markdown",
   "metadata": {},
   "source": [
    "Tuple"
   ]
  },
  {
   "cell_type": "code",
   "execution_count": 6,
   "metadata": {
    "collapsed": true
   },
   "outputs": [],
   "source": [
    "tuple = ()\n"
   ]
  },
  {
   "cell_type": "code",
   "execution_count": 35,
   "metadata": {},
   "outputs": [
    {
     "name": "stdout",
     "output_type": "stream",
     "text": [
      "(3,)\n"
     ]
    }
   ],
   "source": [
    "a= (3,)\n",
    "print(a)"
   ]
  },
  {
   "cell_type": "code",
   "execution_count": 39,
   "metadata": {},
   "outputs": [
    {
     "name": "stdout",
     "output_type": "stream",
     "text": [
      "('Diana', 32, 'New York')\n"
     ]
    }
   ],
   "source": [
    "personInfo = (\"Diana\", 32, \"New York\")\n",
    "print(personInfo)"
   ]
  },
  {
   "cell_type": "code",
   "execution_count": null,
   "metadata": {
    "collapsed": true
   },
   "outputs": [],
   "source": [
    "personInfo = (\"Diana\", 32, \"New York\")\n",
    "print(personInfo[0])\n",
    "print(personInfo[1])"
   ]
  },
  {
   "cell_type": "code",
   "execution_count": 40,
   "metadata": {},
   "outputs": [
    {
     "name": "stdout",
     "output_type": "stream",
     "text": [
      "Canada\n"
     ]
    }
   ],
   "source": [
    "name,age,country,career = ('gaurav',24,'Canada','CompSci')\n",
    "print(country)"
   ]
  },
  {
   "cell_type": "code",
   "execution_count": 43,
   "metadata": {},
   "outputs": [
    {
     "name": "stdout",
     "output_type": "stream",
     "text": [
      "(3, 4, 5, 6, 1, 2, 3)\n"
     ]
    }
   ],
   "source": [
    "x = (3,4,5,6)\n",
    "x = x + (1,2,3)\n",
    "print(x)"
   ]
  },
  {
   "cell_type": "markdown",
   "metadata": {},
   "source": [
    "Dictionary"
   ]
  },
  {
   "cell_type": "code",
   "execution_count": 1,
   "metadata": {},
   "outputs": [
    {
     "name": "stdout",
     "output_type": "stream",
     "text": [
      "Bonjour\n",
      "Non\n",
      "{'Hello': 'Bonjour', 'Yes': 'Oui', 'No': 'Non', 'Bye': 'Au Revoir'}\n"
     ]
    }
   ],
   "source": [
    "words = {}\n",
    "words[\"Hello\"] = \"Bonjour\"\n",
    "words[\"Yes\"] = \"Oui\"\n",
    "words[\"No\"] = \"Non\"\n",
    "words[\"Bye\"] = \"Au Revoir\"\n",
    " \n",
    "print(words[\"Hello\"])\n",
    "print(words[\"No\"])\n",
    "print(words)"
   ]
  },
  {
   "cell_type": "code",
   "execution_count": 20,
   "metadata": {},
   "outputs": [
    {
     "name": "stdout",
     "output_type": "stream",
     "text": [
      "Car\n",
      "The Python Programming Language\n",
      "This sentence is stored here.\n"
     ]
    }
   ],
   "source": [
    "dict = {}\n",
    "dict['Ford'] = \"Car\"\n",
    "dict['Python'] = \"The Python Programming Language\"\n",
    "dict[2] = \"This sentence is stored here.\"\n",
    " \n",
    "print(dict['Ford'])\n",
    "print(dict['Python'])\n",
    "print(dict[2])"
   ]
  },
  {
   "cell_type": "code",
   "execution_count": 21,
   "metadata": {},
   "outputs": [
    {
     "ename": "SyntaxError",
     "evalue": "Missing parentheses in call to 'print'. Did you mean print(dict)? (<ipython-input-21-ad803d3ff731>, line 1)",
     "output_type": "error",
     "traceback": [
      "\u001b[1;36m  File \u001b[1;32m\"<ipython-input-21-ad803d3ff731>\"\u001b[1;36m, line \u001b[1;32m1\u001b[0m\n\u001b[1;33m    print dict\u001b[0m\n\u001b[1;37m             ^\u001b[0m\n\u001b[1;31mSyntaxError\u001b[0m\u001b[1;31m:\u001b[0m Missing parentheses in call to 'print'. Did you mean print(dict)?\n"
     ]
    }
   ],
   "source": [
    "print dict"
   ]
  },
  {
   "cell_type": "code",
   "execution_count": 22,
   "metadata": {},
   "outputs": [
    {
     "name": "stdout",
     "output_type": "stream",
     "text": [
      "{'Hello': 'Bonjour', 'Yes': 'Oui', 'No': 'Non', 'Bye': 'Au Revoir'}\n",
      "{'Hello': 'Bonjour', 'No': 'Non', 'Bye': 'Au Revoir'}\n",
      "{'Hello': 'Bonjour', 'No': 'Non', 'Bye': 'Au Revoir', 'Yes': 'Oui!'}\n"
     ]
    }
   ],
   "source": [
    "words = {}\n",
    "words[\"Hello\"] = \"Bonjour\"\n",
    "words[\"Yes\"] = \"Oui\"\n",
    "words[\"No\"] = \"Non\"\n",
    "words[\"Bye\"] = \"Au Revoir\"\n",
    " \n",
    "print(words)           # print key-pairs.\n",
    "del words[\"Yes\"]       # delete a key-pair.\n",
    "print(words)           # print key-pairs.\n",
    "words[\"Yes\"] = \"Oui!\"  # add new key-pair.\n",
    "print(words)           # print key-pairs."
   ]
  },
  {
   "cell_type": "markdown",
   "metadata": {},
   "source": [
    "Datatype casting轉型"
   ]
  },
  {
   "cell_type": "code",
   "execution_count": 50,
   "metadata": {
    "collapsed": true
   },
   "outputs": [],
   "source": [
    "x = 3\n",
    "y = \"text\""
   ]
  },
  {
   "cell_type": "code",
   "execution_count": null,
   "metadata": {
    "collapsed": true
   },
   "outputs": [],
   "source": [
    "type(x)"
   ]
  },
  {
   "cell_type": "code",
   "execution_count": null,
   "metadata": {
    "collapsed": true
   },
   "outputs": [],
   "source": [
    "type(y)"
   ]
  },
  {
   "cell_type": "code",
   "execution_count": 46,
   "metadata": {},
   "outputs": [
    {
     "name": "stdout",
     "output_type": "stream",
     "text": [
      "We have defined two numbers,\n",
      "x = 3\n",
      "y = 2.15315315313532\n"
     ]
    }
   ],
   "source": [
    "x = 3\n",
    "y = 2.15315315313532\n",
    " \n",
    "print(\"We have defined two numbers,\")\n",
    "print(\"x = \" + str(x))\n",
    "print(\"y = \" + str(y))"
   ]
  },
  {
   "cell_type": "code",
   "execution_count": null,
   "metadata": {
    "collapsed": true
   },
   "outputs": [],
   "source": []
  },
  {
   "cell_type": "code",
   "execution_count": 51,
   "metadata": {},
   "outputs": [
    {
     "name": "stdout",
     "output_type": "stream",
     "text": [
      "268.4254323\n"
     ]
    }
   ],
   "source": [
    "a = \"135.31421\"\n",
    "b = \"133.1112223\"\n",
    " \n",
    "c = float(a) + float(b)\n",
    "print(c)"
   ]
  },
  {
   "cell_type": "markdown",
   "metadata": {},
   "source": [
    "int(x)\tConverts x to an integer\n",
    "long(x)\tConverts x to a long integer\n",
    "float(x)\tConverts x to a floating point number\n",
    "str(x)\tConverts x to an string. x can be of the type float. integer or long.\n",
    "hex(x)\tConverts x integer to a hexadecimal string\n",
    "chr(x)\tConverts x integer to a character\n",
    "ord(x)\tConverts character x to an integer"
   ]
  },
  {
   "cell_type": "markdown",
   "metadata": {},
   "source": [
    "條件\n",
    "IF"
   ]
  },
  {
   "cell_type": "code",
   "execution_count": 48,
   "metadata": {},
   "outputs": [
    {
     "name": "stdout",
     "output_type": "stream",
     "text": [
      "x smaller than 10\n"
     ]
    }
   ],
   "source": [
    "x = 3\n",
    "if x < 10:\n",
    "   print(\"x smaller than 10\")\n",
    "else:\n",
    "   print(\"x is bigger than 10 or equal\")"
   ]
  },
  {
   "cell_type": "markdown",
   "metadata": {},
   "source": [
    "猜年齡遊戲\n"
   ]
  },
  {
   "cell_type": "code",
   "execution_count": 13,
   "metadata": {},
   "outputs": [
    {
     "name": "stdout",
     "output_type": "stream",
     "text": [
      "Guess my age, you have 1 chances\n",
      "Guess: 23\n",
      "Wrong!\n"
     ]
    }
   ],
   "source": [
    "age = 24\n",
    " \n",
    "print (\"Guess my age, you have 1 chances\")\n",
    "guess = int(input(\"Guess: \"))\n",
    " \n",
    "if guess != age:\n",
    "    \n",
    "    print(\"Wrong!\")\n",
    "else:\n",
    "    print(\"Correct\")"
   ]
  },
  {
   "cell_type": "markdown",
   "metadata": {},
   "source": [
    "運算子\n",
    "!=\n",
    "==\n",
    ">\n",
    "<\n"
   ]
  },
  {
   "cell_type": "markdown",
   "metadata": {},
   "source": [
    "巢狀條件"
   ]
  },
  {
   "cell_type": "code",
   "execution_count": 12,
   "metadata": {},
   "outputs": [
    {
     "name": "stdout",
     "output_type": "stream",
     "text": [
      "Good\n"
     ]
    }
   ],
   "source": [
    "a = 12 \n",
    "b = 33\n",
    " \n",
    "if a > 10:\n",
    "    if b > 20:\n",
    "        print(\"Good\")"
   ]
  },
  {
   "cell_type": "markdown",
   "metadata": {},
   "source": [
    "判斷"
   ]
  },
  {
   "cell_type": "code",
   "execution_count": 26,
   "metadata": {},
   "outputs": [
    {
     "name": "stdout",
     "output_type": "stream",
     "text": [
      "Out of range\n"
     ]
    }
   ],
   "source": [
    "guess = 24\n",
    "if guess > 10 and guess < 20:\n",
    "    print(\"In range\")\n",
    "else:\n",
    "    print(\"Out of range\")"
   ]
  },
  {
   "cell_type": "markdown",
   "metadata": {},
   "source": [
    "Functions函式"
   ]
  },
  {
   "cell_type": "code",
   "execution_count": null,
   "metadata": {
    "collapsed": true
   },
   "outputs": [],
   "source": [
    "def function(parameters):\n",
    "    instructions\n",
    "    return value"
   ]
  },
  {
   "cell_type": "code",
   "execution_count": 14,
   "metadata": {
    "collapsed": true
   },
   "outputs": [],
   "source": [
    "def f(x):\n",
    "    y = x*x\n",
    "    return(y)"
   ]
  },
  {
   "cell_type": "code",
   "execution_count": null,
   "metadata": {
    "collapsed": true
   },
   "outputs": [],
   "source": [
    "print(f(3))"
   ]
  },
  {
   "cell_type": "markdown",
   "metadata": {},
   "source": [
    "兩個參數"
   ]
  },
  {
   "cell_type": "code",
   "execution_count": 28,
   "metadata": {
    "collapsed": true
   },
   "outputs": [],
   "source": [
    "def f(x,y):\n",
    "    print('You called f(x,y) with the value x = ' + str(x) + ' and y = ' + str(y))\n",
    "    print('x * y = ' + str(x*y))"
   ]
  },
  {
   "cell_type": "code",
   "execution_count": 29,
   "metadata": {},
   "outputs": [
    {
     "name": "stdout",
     "output_type": "stream",
     "text": [
      "You called f(x,y) with the value x = 3 and y = 2\n",
      "x * y = 6\n"
     ]
    }
   ],
   "source": [
    " \n",
    "f(3,2)"
   ]
  },
  {
   "cell_type": "markdown",
   "metadata": {},
   "source": [
    "迴圈\n",
    "Loops: For loop, while loop"
   ]
  },
  {
   "cell_type": "code",
   "execution_count": 32,
   "metadata": {},
   "outputs": [
    {
     "name": "stdout",
     "output_type": "stream",
     "text": [
      "Abby\n",
      "Brenda\n",
      "Cindy\n",
      "Diddy\n"
     ]
    }
   ],
   "source": [
    "items = [ \"Abby\",\"Brenda\",\"Cindy\",\"Diddy\" ]\n",
    " \n",
    "for i in items:\n",
    "    print(i)\n"
   ]
  },
  {
   "cell_type": "code",
   "execution_count": 35,
   "metadata": {},
   "outputs": [
    {
     "name": "stdout",
     "output_type": "stream",
     "text": [
      "1\n",
      "2\n",
      "3\n",
      "4\n",
      "5\n",
      "6\n"
     ]
    }
   ],
   "source": [
    "for i in range(1,7):\n",
    "    print(i)"
   ]
  },
  {
   "cell_type": "code",
   "execution_count": 4,
   "metadata": {},
   "outputs": [
    {
     "name": "stdout",
     "output_type": "stream",
     "text": [
      "1\n",
      "2\n",
      "3\n",
      "4\n",
      "5\n",
      "6\n",
      "7\n",
      "8\n",
      "9\n",
      "10\n",
      "11\n",
      "12\n",
      "13\n",
      "14\n",
      "15\n",
      "16\n",
      "17\n",
      "18\n",
      "19\n",
      "20\n",
      "21\n",
      "22\n",
      "23\n",
      "24\n",
      "25\n",
      "26\n",
      "27\n",
      "28\n",
      "29\n",
      "30\n",
      "31\n",
      "32\n",
      "33\n",
      "34\n",
      "35\n",
      "36\n",
      "37\n",
      "38\n",
      "39\n",
      "40\n",
      "41\n",
      "42\n",
      "43\n",
      "44\n",
      "45\n",
      "46\n",
      "47\n",
      "48\n",
      "49\n",
      "50\n",
      "1\n",
      "2\n",
      "3\n",
      "4\n",
      "5\n",
      "6\n",
      "7\n",
      "8\n",
      "9\n",
      "10\n",
      "11\n",
      "12\n",
      "13\n",
      "14\n",
      "15\n",
      "16\n",
      "17\n",
      "18\n",
      "19\n",
      "20\n",
      "21\n",
      "22\n",
      "23\n",
      "24\n",
      "25\n",
      "26\n",
      "27\n",
      "28\n",
      "29\n",
      "30\n",
      "31\n",
      "32\n",
      "33\n",
      "34\n",
      "35\n",
      "36\n",
      "37\n",
      "38\n",
      "39\n",
      "40\n",
      "41\n",
      "42\n",
      "43\n",
      "44\n",
      "45\n",
      "46\n",
      "47\n",
      "48\n",
      "49\n",
      "50\n"
     ]
    }
   ],
   "source": [
    "n=50\n",
    "m=50\n",
    "for i in range(1,n+1):\n",
    "    print (i)\n",
    "for j in range(1,m+1):\n",
    "    print(j)\n",
    "    "
   ]
  },
  {
   "cell_type": "markdown",
   "metadata": {},
   "source": [
    "作業：九九乘法表\n"
   ]
  },
  {
   "cell_type": "markdown",
   "metadata": {},
   "source": [
    "利用while迴圈進行猜數字"
   ]
  },
  {
   "cell_type": "code",
   "execution_count": 6,
   "metadata": {},
   "outputs": [
    {
     "name": "stdout",
     "output_type": "stream",
     "text": [
      "Guess the number: 9\n",
      "False guess\n",
      "Guess the number: 7\n",
      "False guess\n",
      "Guess the number: 5\n",
      "You guessed the correct number\n"
     ]
    }
   ],
   "source": [
    "correctNumber = 5\n",
    "guess = 0\n",
    " \n",
    "while guess != correctNumber:\n",
    "    guess = int(input(\"Guess the number: \"))\n",
    " \n",
    "    if guess != correctNumber:\n",
    "        print('False guess')\n",
    " \n",
    "print('You guessed the correct number')"
   ]
  },
  {
   "cell_type": "markdown",
   "metadata": {},
   "source": [
    "巢狀迴圈"
   ]
  },
  {
   "cell_type": "code",
   "execution_count": 18,
   "metadata": {},
   "outputs": [
    {
     "name": "stdout",
     "output_type": "stream",
     "text": [
      "(1x1)\n",
      "(1x2)\n",
      "(1x3)\n",
      "(1x4)\n",
      "(1x5)\n",
      "(1x6)\n",
      "(1x7)\n",
      "(1x8)\n",
      "(1x9)\n",
      "(2x1)\n",
      "(2x2)\n",
      "(2x3)\n",
      "(2x4)\n",
      "(2x5)\n",
      "(2x6)\n",
      "(2x7)\n",
      "(2x8)\n",
      "(2x9)\n",
      "(3x1)\n",
      "(3x2)\n",
      "(3x3)\n",
      "(3x4)\n",
      "(3x5)\n",
      "(3x6)\n",
      "(3x7)\n",
      "(3x8)\n",
      "(3x9)\n",
      "(4x1)\n",
      "(4x2)\n",
      "(4x3)\n",
      "(4x4)\n",
      "(4x5)\n",
      "(4x6)\n",
      "(4x7)\n",
      "(4x8)\n",
      "(4x9)\n",
      "(5x1)\n",
      "(5x2)\n",
      "(5x3)\n",
      "(5x4)\n",
      "(5x5)\n",
      "(5x6)\n",
      "(5x7)\n",
      "(5x8)\n",
      "(5x9)\n",
      "(6x1)\n",
      "(6x2)\n",
      "(6x3)\n",
      "(6x4)\n",
      "(6x5)\n",
      "(6x6)\n",
      "(6x7)\n",
      "(6x8)\n",
      "(6x9)\n",
      "(7x1)\n",
      "(7x2)\n",
      "(7x3)\n",
      "(7x4)\n",
      "(7x5)\n",
      "(7x6)\n",
      "(7x7)\n",
      "(7x8)\n",
      "(7x9)\n",
      "(8x1)\n",
      "(8x2)\n",
      "(8x3)\n",
      "(8x4)\n",
      "(8x5)\n",
      "(8x6)\n",
      "(8x7)\n",
      "(8x8)\n",
      "(8x9)\n",
      "(9x1)\n",
      "(9x2)\n",
      "(9x3)\n",
      "(9x4)\n",
      "(9x5)\n",
      "(9x6)\n",
      "(9x7)\n",
      "(9x8)\n",
      "(9x9)\n"
     ]
    }
   ],
   "source": [
    "for x in range(1,10):\n",
    "    for y in range(1,10):\n",
    "        print(\"(\" + str(x) + \"x\" + str(y) + \")\")"
   ]
  },
  {
   "cell_type": "code",
   "execution_count": null,
   "metadata": {
    "collapsed": true
   },
   "outputs": [],
   "source": []
  },
  {
   "cell_type": "markdown",
   "metadata": {},
   "source": [
    "隨機變數"
   ]
  },
  {
   "cell_type": "code",
   "execution_count": null,
   "metadata": {
    "collapsed": true
   },
   "outputs": [],
   "source": [
    "from random import *\n",
    " \n",
    "print random()     # Generate a pseudo-random number between 0 and 1."
   ]
  },
  {
   "cell_type": "code",
   "execution_count": null,
   "metadata": {
    "collapsed": true
   },
   "outputs": [],
   "source": [
    "from random import *\n",
    " \n",
    "print randint(1, 100)    # Pick a random number between 1 and 100."
   ]
  },
  {
   "cell_type": "code",
   "execution_count": null,
   "metadata": {
    "collapsed": true
   },
   "outputs": [],
   "source": [
    "# print a random integer\n",
    "from random import *\n",
    " \n",
    "x = randint(1, 100)    # Pick a random number between 1 and 100.\n",
    "print x"
   ]
  },
  {
   "cell_type": "code",
   "execution_count": null,
   "metadata": {
    "collapsed": true
   },
   "outputs": [],
   "source": [
    "# Random number between 1 and 10\n",
    "\n",
    "from random import *\n",
    " \n",
    "print uniform(1, 10)"
   ]
  },
  {
   "cell_type": "code",
   "execution_count": null,
   "metadata": {
    "collapsed": true
   },
   "outputs": [],
   "source": [
    "# list中間一些有趣的多熹\n",
    "from random import *\n",
    " \n",
    "items = [1, 2, 3, 4, 5, 6, 7, 8, 9, 10]\n",
    "shuffle(items)\n",
    "print items"
   ]
  },
  {
   "cell_type": "code",
   "execution_count": null,
   "metadata": {
    "collapsed": true
   },
   "outputs": [],
   "source": [
    "from random import *\n",
    " \n",
    "items = [1, 2, 3, 4, 5, 6, 7, 8, 9, 10]\n",
    " \n",
    "x = sample(items,  1)   # Pick a random item from the list\n",
    "print x[0]\n",
    " \n",
    "y = sample(items, 4)    # Pick 4 random items from the list\n",
    "print y"
   ]
  },
  {
   "cell_type": "code",
   "execution_count": null,
   "metadata": {
    "collapsed": true
   },
   "outputs": [],
   "source": [
    "from random import *\n",
    " \n",
    "items = ['Alissa','Alice','Marco','Melissa','Sandra','Steve']\n",
    " \n",
    "x = sample(items,  1)   # Pick a random item from the list\n",
    "print x[0]\n",
    " \n",
    "y = sample(items, 4)    # Pick 4 random items from the list\n",
    "print y"
   ]
  },
  {
   "cell_type": "markdown",
   "metadata": {},
   "source": [
    "Python class: Objects and classes\n",
    "![Python Class類別](images/python_class.png)"
   ]
  },
  {
   "cell_type": "code",
   "execution_count": 6,
   "metadata": {},
   "outputs": [
    {
     "name": "stdout",
     "output_type": "stream",
     "text": [
      "Hello, my name is James\n",
      "Hello, my name is David\n"
     ]
    }
   ],
   "source": [
    "class User:\n",
    "    name = \"\" # attribute\n",
    " \n",
    "    def __init__(self, name):\n",
    "        self.name = name\n",
    " \n",
    "    def sayHello(self):\n",
    "        print (\"Hello, my name is \" + self.name)\n",
    " \n",
    "# create virtual objects\n",
    "james = User(\"James\")\n",
    "david = User(\"David\")\n",
    "eric = User(\"Eric\")\n",
    " \n",
    "# call methods owned by virtual objects\n",
    "james.sayHello()\n",
    "david.sayHello()"
   ]
  },
  {
   "cell_type": "code",
   "execution_count": 4,
   "metadata": {
    "collapsed": true
   },
   "outputs": [],
   "source": [
    "def addBean(self):\n",
    "        self.bean = self.bean + 1\n",
    " \n",
    "def removeBean(self):\n",
    "        self.bean = self.bean - 1"
   ]
  },
  {
   "cell_type": "code",
   "execution_count": 3,
   "metadata": {},
   "outputs": [
    {
     "name": "stdout",
     "output_type": "stream",
     "text": [
      "Name  = Python Bean\n",
      "Beans = 83\n",
      "Water = 20\n",
      "\n",
      "Name  = Python Bean\n",
      "Beans = 84\n",
      "Water = 20\n"
     ]
    }
   ],
   "source": [
    "class CoffeeMachine:\n",
    "    name = \"\"\n",
    "    beans = 0\n",
    "    water = 0\n",
    " \n",
    "    def __init__(self, name, beans, water):\n",
    "        self.name = name\n",
    "        self.beans = beans\n",
    "        self.water = water\n",
    " \n",
    "    def addBean(self):\n",
    "        self.beans = self.beans + 1\n",
    " \n",
    "    def removeBean(self):\n",
    "        self.beans = self.beans - 1\n",
    " \n",
    "    def addWater(self):\n",
    "        self.water = self.water + 1\n",
    " \n",
    "    def removeWater(self):\n",
    "        self.water = self.water - 1\n",
    " \n",
    "    def printState(self):\n",
    "        print (\"Name  = \" + (self.name))\n",
    "        print (\"Beans = \" + str(self.beans))\n",
    "        print (\"Water = \" + str(self.water))\n",
    " \n",
    "pythonBean = CoffeeMachine(\"Python Bean\", 83, 20)\n",
    "pythonBean.printState()\n",
    "print (\"\")\n",
    "pythonBean.addBean()\n",
    "pythonBean.printState()"
   ]
  },
  {
   "cell_type": "code",
   "execution_count": null,
   "metadata": {
    "collapsed": true
   },
   "outputs": [],
   "source": []
  },
  {
   "cell_type": "code",
   "execution_count": null,
   "metadata": {
    "collapsed": true
   },
   "outputs": [],
   "source": []
  },
  {
   "cell_type": "code",
   "execution_count": null,
   "metadata": {
    "collapsed": true
   },
   "outputs": [],
   "source": []
  },
  {
   "cell_type": "code",
   "execution_count": null,
   "metadata": {
    "collapsed": true
   },
   "outputs": [],
   "source": []
  }
 ],
 "metadata": {
  "kernelspec": {
   "display_name": "Python 3",
   "language": "python",
   "name": "python3"
  },
  "language_info": {
   "codemirror_mode": {
    "name": "ipython",
    "version": 3
   },
   "file_extension": ".py",
   "mimetype": "text/x-python",
   "name": "python",
   "nbconvert_exporter": "python",
   "pygments_lexer": "ipython3",
   "version": "3.6.3"
  }
 },
 "nbformat": 4,
 "nbformat_minor": 1
}
