{
 "cells": [
  {
   "cell_type": "code",
   "execution_count": 1,
   "metadata": {},
   "outputs": [
    {
     "data": {
      "text/html": [
       "<div>\n",
       "<style scoped>\n",
       "    .dataframe tbody tr th:only-of-type {\n",
       "        vertical-align: middle;\n",
       "    }\n",
       "\n",
       "    .dataframe tbody tr th {\n",
       "        vertical-align: top;\n",
       "    }\n",
       "\n",
       "    .dataframe thead th {\n",
       "        text-align: right;\n",
       "    }\n",
       "</style>\n",
       "<table border=\"1\" class=\"dataframe\">\n",
       "  <thead>\n",
       "    <tr style=\"text-align: right;\">\n",
       "      <th></th>\n",
       "      <th>dist 1</th>\n",
       "      <th>Distance, mm</th>\n",
       "      <th>Tool 1 - Load, kN</th>\n",
       "      <th>Unnamed: 3</th>\n",
       "      <th>dist 2</th>\n",
       "      <th>Distance, mm.1</th>\n",
       "      <th>Tool 1 - Load, kN.1</th>\n",
       "      <th>Unnamed: 7</th>\n",
       "      <th>dist 3</th>\n",
       "      <th>Distance, mm.2</th>\n",
       "      <th>Tool 1 - Load, kN.2</th>\n",
       "      <th>Unnamed: 11</th>\n",
       "      <th>dist 4</th>\n",
       "      <th>Distance, mm.3</th>\n",
       "      <th>Tool 1 - Load, kN.3</th>\n",
       "    </tr>\n",
       "  </thead>\n",
       "  <tbody>\n",
       "    <tr>\n",
       "      <th>0</th>\n",
       "      <td>116.912081</td>\n",
       "      <td>19.087919</td>\n",
       "      <td>0.000000</td>\n",
       "      <td>NaN</td>\n",
       "      <td>128.414214</td>\n",
       "      <td>7.585786</td>\n",
       "      <td>0.000000</td>\n",
       "      <td>NaN</td>\n",
       "      <td>117.310414</td>\n",
       "      <td>18.689586</td>\n",
       "      <td>0.000000e+00</td>\n",
       "      <td>NaN</td>\n",
       "      <td>129.414055</td>\n",
       "      <td>6.585945</td>\n",
       "      <td>0.000000</td>\n",
       "    </tr>\n",
       "    <tr>\n",
       "      <th>1</th>\n",
       "      <td>117.021761</td>\n",
       "      <td>18.978239</td>\n",
       "      <td>0.006636</td>\n",
       "      <td>NaN</td>\n",
       "      <td>128.480861</td>\n",
       "      <td>7.519139</td>\n",
       "      <td>0.006112</td>\n",
       "      <td>NaN</td>\n",
       "      <td>118.530302</td>\n",
       "      <td>17.469698</td>\n",
       "      <td>1.148255e-03</td>\n",
       "      <td>NaN</td>\n",
       "      <td>129.456605</td>\n",
       "      <td>6.543395</td>\n",
       "      <td>0.027305</td>\n",
       "    </tr>\n",
       "    <tr>\n",
       "      <th>2</th>\n",
       "      <td>117.145579</td>\n",
       "      <td>18.854421</td>\n",
       "      <td>0.476850</td>\n",
       "      <td>NaN</td>\n",
       "      <td>128.538881</td>\n",
       "      <td>7.461119</td>\n",
       "      <td>1.407802</td>\n",
       "      <td>NaN</td>\n",
       "      <td>118.790350</td>\n",
       "      <td>17.209649</td>\n",
       "      <td>-1.728410e-04</td>\n",
       "      <td>NaN</td>\n",
       "      <td>129.485826</td>\n",
       "      <td>6.514174</td>\n",
       "      <td>1.011399</td>\n",
       "    </tr>\n",
       "    <tr>\n",
       "      <th>3</th>\n",
       "      <td>117.211215</td>\n",
       "      <td>18.788785</td>\n",
       "      <td>0.612078</td>\n",
       "      <td>NaN</td>\n",
       "      <td>128.569675</td>\n",
       "      <td>7.430325</td>\n",
       "      <td>2.203260</td>\n",
       "      <td>NaN</td>\n",
       "      <td>119.082430</td>\n",
       "      <td>16.917570</td>\n",
       "      <td>-1.810000e-06</td>\n",
       "      <td>NaN</td>\n",
       "      <td>129.569011</td>\n",
       "      <td>6.430989</td>\n",
       "      <td>0.980479</td>\n",
       "    </tr>\n",
       "    <tr>\n",
       "      <th>4</th>\n",
       "      <td>117.282173</td>\n",
       "      <td>18.717827</td>\n",
       "      <td>0.910978</td>\n",
       "      <td>NaN</td>\n",
       "      <td>128.640479</td>\n",
       "      <td>7.359521</td>\n",
       "      <td>2.866976</td>\n",
       "      <td>NaN</td>\n",
       "      <td>119.373841</td>\n",
       "      <td>16.626159</td>\n",
       "      <td>1.070000e-07</td>\n",
       "      <td>NaN</td>\n",
       "      <td>129.691605</td>\n",
       "      <td>6.308395</td>\n",
       "      <td>0.935761</td>\n",
       "    </tr>\n",
       "  </tbody>\n",
       "</table>\n",
       "</div>"
      ],
      "text/plain": [
       "       dist 1  Distance, mm  Tool 1 - Load, kN  Unnamed: 3      dist 2  \\\n",
       "0  116.912081     19.087919           0.000000         NaN  128.414214   \n",
       "1  117.021761     18.978239           0.006636         NaN  128.480861   \n",
       "2  117.145579     18.854421           0.476850         NaN  128.538881   \n",
       "3  117.211215     18.788785           0.612078         NaN  128.569675   \n",
       "4  117.282173     18.717827           0.910978         NaN  128.640479   \n",
       "\n",
       "   Distance, mm.1  Tool 1 - Load, kN.1  Unnamed: 7      dist 3  \\\n",
       "0        7.585786             0.000000         NaN  117.310414   \n",
       "1        7.519139             0.006112         NaN  118.530302   \n",
       "2        7.461119             1.407802         NaN  118.790350   \n",
       "3        7.430325             2.203260         NaN  119.082430   \n",
       "4        7.359521             2.866976         NaN  119.373841   \n",
       "\n",
       "   Distance, mm.2  Tool 1 - Load, kN.2  Unnamed: 11      dist 4  \\\n",
       "0       18.689586         0.000000e+00          NaN  129.414055   \n",
       "1       17.469698         1.148255e-03          NaN  129.456605   \n",
       "2       17.209649        -1.728410e-04          NaN  129.485826   \n",
       "3       16.917570        -1.810000e-06          NaN  129.569011   \n",
       "4       16.626159         1.070000e-07          NaN  129.691605   \n",
       "\n",
       "   Distance, mm.3  Tool 1 - Load, kN.3  \n",
       "0        6.585945             0.000000  \n",
       "1        6.543395             0.027305  \n",
       "2        6.514174             1.011399  \n",
       "3        6.430989             0.980479  \n",
       "4        6.308395             0.935761  "
      ]
     },
     "execution_count": 1,
     "metadata": {},
     "output_type": "execute_result"
    }
   ],
   "source": [
    "import pandas as pd\n",
    "import numpy as np\n",
    "import matplotlib.pyplot as plt\n",
    "ld = pd.read_csv(\"closed die add curv may.csv\", sep=',')\n",
    "#ld=pd.read_csv(\"add may  load curve1.csv\")\n",
    "ld.head()"
   ]
  },
  {
   "cell_type": "code",
   "execution_count": 6,
   "metadata": {},
   "outputs": [
    {
     "name": "stdout",
     "output_type": "stream",
     "text": [
      "180 180\n",
      "180 180\n",
      "180 180\n",
      "180 180\n"
     ]
    },
    {
     "data": {
      "text/plain": [
       "Text(0,0.5,'load (KN)')"
      ]
     },
     "execution_count": 6,
     "metadata": {},
     "output_type": "execute_result"
    },
    {
     "data": {
      "image/png": "[encoded data removed]",
      "text/plain": [
       "<Figure size 1080x576 with 1 Axes>"
      ]
     },
     "metadata": {
      "needs_background": "light"
     },
     "output_type": "display_data"
    }
   ],
   "source": [
    "dist1=ld['dist 1'].values.tolist()      \n",
    "load1=ld['Tool 1 - Load, kN'].values.tolist() \n",
    "dist2=ld['dist 2'].values.tolist()        \n",
    "load2=ld['Tool 1 - Load, kN.1'].values.tolist() \n",
    "dist3=ld['dist 3'].values.tolist()          \n",
    "load3=ld['Tool 1 - Load, kN.2'].values.tolist() \n",
    "dist4=ld['dist 4'].values.tolist()         \n",
    "load4=ld['Tool 1 - Load, kN.3'].values.tolist()\n",
    "\n",
    "#distcheck=ld['dist 1']\n",
    "#print(dist1)\n",
    "#print(distcheck)\n",
    "\n",
    "fig, ax = plt.subplots(figsize=(15,8))\n",
    "print(len(dist1),len(load1))\n",
    "print(len(dist2),len(load2))\n",
    "print(len(dist3),len(load3))\n",
    "print(len(dist4),len(load4))\n",
    "ax.plot(dist1,load1)\n",
    "ax.plot(dist2,load2)\n",
    "ax.plot(dist3,load3)\n",
    "ax.plot(dist4,load4)\n",
    "ax.set_xlabel('Distance (mm)')\n",
    "ax.set_ylabel('load (KN)')\n"
   ]
  },
  {
   "cell_type": "code",
   "execution_count": 3,
   "metadata": {},
   "outputs": [
    {
     "name": "stdout",
     "output_type": "stream",
     "text": [
      "leng_dac 720\n",
      "leng_addlist 720\n"
     ]
    }
   ],
   "source": [
    "addlist=dist1+dist2+dist3+dist4  #find tac by sorting addlist\n",
    "#print(\"addlist\",addlist)\n",
    "leng=len(addlist)\n",
    "\n",
    "dac=sorted(addlist)\n",
    "lengt=len(dac)\n",
    "print(\"leng_dac\",lengt)\n",
    "print(\"leng_addlist\",leng)\n",
    "#print(\"dac\",dac)"
   ]
  },
  {
   "cell_type": "code",
   "execution_count": 9,
   "metadata": {},
   "outputs": [
    {
     "name": "stdout",
     "output_type": "stream",
     "text": [
      "4\n"
     ]
    }
   ],
   "source": [
    "dla1=dict(zip(dist1,load1))\n",
    "dla2=dict(zip(dist2,load2))\n",
    "dla3=dict(zip(dist3,load3))\n",
    "dla4=dict(zip(dist4,load4))\n",
    "#print(tla1)\n",
    "d=[]\n",
    "d.append(dla1)\n",
    "d.append(dla2)\n",
    "d.append(dla3)\n",
    "d.append(dla4)\n",
    "\n",
    "#print(dla1)\n",
    "#print(\"d\",d)\n",
    "\n",
    "leng=len(d)\n",
    "print(leng)\n",
    "#print(key1)\n",
    "#print(key2)\n"
   ]
  },
  {
   "cell_type": "code",
   "execution_count": 10,
   "metadata": {},
   "outputs": [
    {
     "data": {
      "text/plain": [
       "<matplotlib.legend.Legend at 0x1a3d7632c50>"
      ]
     },
     "execution_count": 10,
     "metadata": {},
     "output_type": "execute_result"
    },
    {
     "data": {
      "image/png": "[encoded data removed]",
      "text/plain": [
       "<Figure size 864x576 with 1 Axes>"
      ]
     },
     "metadata": {
      "needs_background": "light"
     },
     "output_type": "display_data"
    }
   ],
   "source": [
    "import numpy as np\n",
    "#value_store=[]\n",
    "load_v = np.array([],dtype = int)\n",
    "da_v=np.array([],dtype=float)\n",
    "for i in range (len(dac)):     #iterate and  loop through sorted time\n",
    "    value=0.0\n",
    "    #print(\"i\",i,\"value\",value)\n",
    "    for j in range(len(d)):    #iterate and loop through the #list (tlac1[0],tlac2[1],tlac3[2],tlac4[3])\n",
    "        k0=0\n",
    "        for k in d[j]:         #iterate and loop through the #elements in the lists (tlac1,tlac2,tlac3,tlac4)\n",
    "            if k0 == 0:\n",
    "                k0=1\n",
    "                kk=k\n",
    "            else:\n",
    "                kj=kk\n",
    "                kk=k\n",
    "                da=(dac[i])\n",
    "                #print(\"ta\",ta, \"kj\",kj,\"kk\",kk)     \n",
    "                if kj<da and da<=kk:\n",
    "                    value=value+(d[j][kk]-d[j][kj])/(kk-kj)*(da-kj)+d[j][kj]   #interpolation\n",
    "                    #print(\"value\",value)\n",
    "   # value_store.append(value)\n",
    "    da_v=np.append(da_v,da)\n",
    "    load_v=np.append(load_v,(value))\n",
    "    \n",
    "fig, ax = plt.subplots(figsize=(12,8))\n",
    "ax.plot(dist1,load1)\n",
    "ax.plot(dist2,load2)\n",
    "ax.plot(dist3,load3)\n",
    "ax.plot(dist4,load4)\n",
    "ax.plot(da_v,load_v)\n",
    "\n",
    "ax.set_xlabel('Dist(mm)')\n",
    "ax.set_ylabel('load (KN)')\n",
    "\n",
    "ax.legend(['1st','2nd','3rd','4th','Summation'])\n",
    "\n"
   ]
  },
  {
   "cell_type": "code",
   "execution_count": null,
   "metadata": {},
   "outputs": [],
   "source": []
  }
 ],
 "metadata": {
  "kernelspec": {
   "display_name": "Python 3",
   "language": "python",
   "name": "python3"
  },
  "language_info": {
   "codemirror_mode": {
    "name": "ipython",
    "version": 3
   },
   "file_extension": ".py",
   "mimetype": "text/x-python",
   "name": "python",
   "nbconvert_exporter": "python",
   "pygments_lexer": "ipython3",
   "version": "3.7.1"
  }
 },
 "nbformat": 4,
 "nbformat_minor": 2
}
